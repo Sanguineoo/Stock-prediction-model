{
 "cells": [
  {
   "cell_type": "code",
   "execution_count": 11,
   "metadata": {},
   "outputs": [],
   "source": [
    "import yfinance as yf\n",
    "from statsmodels.tsa.arima.model import ARIMA\n",
    "import pandas as pd\n",
    "import matplotlib.pyplot as plt\n",
    "from datetime import datetime, timedelta,date\n",
    "from prophet import Prophet\n",
    "import pickle"
   ]
  },
  {
   "cell_type": "code",
   "execution_count": 12,
   "metadata": {},
   "outputs": [
    {
     "name": "stdout",
     "output_type": "stream",
     "text": [
      "Current price of AAPL: 216.15\n"
     ]
    }
   ],
   "source": [
    "ticker = yf.Ticker(\"AAPL\")\n",
    "\n",
    "# Get the current price of the stock using the regularMarketOpen key\n",
    "current_price = ticker.info[\"regularMarketOpen\"]\n",
    "\n",
    "print(\"Current price of AAPL:\", current_price)"
   ]
  },
  {
   "cell_type": "code",
   "execution_count": 13,
   "metadata": {},
   "outputs": [],
   "source": [
    "today = date.today()\n",
    "current_date = today.strftime(\"%Y-%m-%d\")\n",
    "# Use the history() method to get the historical data for the stock\n",
    "df = ticker.history(start=\"2007-01-01\", end=current_date)"
   ]
  },
  {
   "cell_type": "code",
   "execution_count": 14,
   "metadata": {},
   "outputs": [],
   "source": [
    "df = df[['Close']]\n",
    "df.reset_index(inplace=True)\n",
    "df.columns = ['ds','y']"
   ]
  },
  {
   "cell_type": "code",
   "execution_count": 15,
   "metadata": {},
   "outputs": [],
   "source": [
    "def remove_tz(x):\n",
    "    new_time = pd.Timestamp(str(x.date()))\n",
    "    return new_time\n",
    "df['ds'] = df['ds'].apply(remove_tz)"
   ]
  },
  {
   "cell_type": "code",
   "execution_count": 16,
   "metadata": {},
   "outputs": [
    {
     "name": "stderr",
     "output_type": "stream",
     "text": [
      "17:50:08 - cmdstanpy - INFO - Chain [1] start processing\n",
      "17:50:11 - cmdstanpy - INFO - Chain [1] done processing\n"
     ]
    },
    {
     "data": {
      "text/plain": [
       "<prophet.forecaster.Prophet at 0x276e48e7f70>"
      ]
     },
     "execution_count": 16,
     "metadata": {},
     "output_type": "execute_result"
    }
   ],
   "source": [
    "model = Prophet()\n",
    "model.fit(df)"
   ]
  }
 ],
 "metadata": {
  "kernelspec": {
   "display_name": "Python 3",
   "language": "python",
   "name": "python3"
  },
  "language_info": {
   "codemirror_mode": {
    "name": "ipython",
    "version": 3
   },
   "file_extension": ".py",
   "mimetype": "text/x-python",
   "name": "python",
   "nbconvert_exporter": "python",
   "pygments_lexer": "ipython3",
   "version": "3.10.5"
  },
  "orig_nbformat": 4
 },
 "nbformat": 4,
 "nbformat_minor": 2
}
